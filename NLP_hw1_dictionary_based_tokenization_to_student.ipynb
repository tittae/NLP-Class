{
  "nbformat": 4,
  "nbformat_minor": 0,
  "metadata": {
    "kernelspec": {
      "display_name": "Python 3",
      "language": "python",
      "name": "python3"
    },
    "language_info": {
      "codemirror_mode": {
        "name": "ipython",
        "version": 3
      },
      "file_extension": ".py",
      "mimetype": "text/x-python",
      "name": "python",
      "nbconvert_exporter": "python",
      "pygments_lexer": "ipython3",
      "version": "3.6.4"
    },
    "colab": {
      "name": "NLP_hw1_dictionary-based_tokenization_to_student.ipynb",
      "provenance": [],
      "collapsed_sections": []
    }
  },
  "cells": [
    {
      "cell_type": "markdown",
      "metadata": {
        "id": "7EdbVSmE87En"
      },
      "source": [
        "# HW1: Dictionary-based Tokenization \n"
      ]
    },
    {
      "cell_type": "markdown",
      "metadata": {
        "id": "pJJLm1Ub87Et"
      },
      "source": [
        "In this exercise, you are to implement a dictionary-based word segmentation algorithm. There are two Python functions that you need to complete: \n",
        "<br>\n",
        "* maximal_matching\n",
        "* backtrack\n",
        "</br>\n",
        "\n",
        "Also, you have to find how to use word_tokenize() in PythaiNLP along with customer_dict by yourselves."
      ]
    },
    {
      "cell_type": "markdown",
      "metadata": {
        "id": "DF5Pme7CK3YF"
      },
      "source": [
        "## Part1) Your Maximal Matching with Your Dictionary"
      ]
    },
    {
      "cell_type": "markdown",
      "metadata": {
        "id": "xzs0R06q87Et"
      },
      "source": [
        "### Create a toy dictionary to test the algorithm\n",
        "\n",
        "This is based on the example shown in the lecture. \n",
        "You will tokenize the following text string: \"ไปหามเหสี!\"\n",
        "The toy dictoionary provided in this exercise includes all the charaters, syllables, and words that appear that the text string."
      ]
    },
    {
      "cell_type": "code",
      "metadata": {
        "id": "pq3W4p3z87Ev"
      },
      "source": [
        "thai_vocab = [\"ไ\",\"ป\",\"ห\",\"า\",\"ม\",\"เ\",\"ห\",\"ส\",\"ี\",\"ไป\",\"หา\",\"หาม\",\"เห\",\"สี\",\"มเหสี\",\"!\"]"
      ],
      "execution_count": null,
      "outputs": []
    },
    {
      "cell_type": "markdown",
      "metadata": {
        "id": "ZornooGF87Ew"
      },
      "source": [
        "### Maximal matching \n",
        "Complete the maximal matching  function below to tokenize the input text\n"
      ]
    },
    {
      "cell_type": "code",
      "metadata": {
        "id": "Ao4d2E3387Ew"
      },
      "source": [
        "from math import inf #infinity\n",
        "def maximal_matching(c):\n",
        "    #Initialize an empty 2D list\n",
        "    d = [[None]*len(c) for _ in range(len(c))]\n",
        "    \n",
        "    ####FILL CODE HERE####\n",
        "    for i in range(len(c)):\n",
        "      for j in range(i, len(c)):\n",
        "\n",
        "        # case 1\n",
        "        if i == 0 and (j == 0 or c[i:j+1] in thai_vocab):\n",
        "          d[i][j] = 1\n",
        "\n",
        "        # case 2\n",
        "        elif c[i:j+1] in thai_vocab:\n",
        "          min_d = inf\n",
        "\n",
        "          for k in range(i):\n",
        "            min_d = min(d[k][i-1],min_d)\n",
        "\n",
        "          d[i][j] = 1 + min_d\n",
        "\n",
        "        # case 3\n",
        "        else:\n",
        "          d[i][j] = inf\n",
        "\n",
        "    ######################\n",
        "    \n",
        "    return d"
      ],
      "execution_count": null,
      "outputs": []
    },
    {
      "cell_type": "markdown",
      "metadata": {
        "id": "w7vBXfjM87Ew"
      },
      "source": [
        "### Backtracking\n",
        "Complete the backtracking function below to find the tokenzied words.\n",
        "It should return a list containing a pair of the beginning position and the ending position of each word.\n",
        "In this example, it should return: \n",
        "<br>\n",
        "[(0, 1),(2, 3),(4, 8),(9, 9)]\n",
        "<br> \n",
        "#### Each pair contains the position of each word as follows:\n",
        "(0, 1) ไป\n",
        "<br>\n",
        "(2, 3) หา\n",
        "<br>\n",
        "(4, 8) มเหสี\n",
        "<br>\n",
        "(9, 9) !\n"
      ]
    },
    {
      "cell_type": "code",
      "metadata": {
        "id": "SxNFf1IE87Ex"
      },
      "source": [
        "def backtrack(d):\n",
        "    eow = len(d)-1 # End of Word position\n",
        "    word_pos = [] # Word position\n",
        "\n",
        "    ####FILL CODE HERE####tt\n",
        "    while eow > 0:\n",
        "      min_i = inf\n",
        "      min_d = inf\n",
        "      for i in range(eow+1):\n",
        "        if min_d >= d[i][eow]:\n",
        "          min_d = d[i][eow]\n",
        "          min_i = i\n",
        "          # print(\"i :\" + str(i))\n",
        "          # print(\"min_d :\" + str(min_d))\n",
        "          # print(\"min_i :\" + str(min_i))\n",
        "      \n",
        "      word_pos.append((min_i,eow))\n",
        "\n",
        "      eow = min_i - 1\n",
        "    \n",
        "    ######################\n",
        "    word_pos.reverse()\n",
        "    return word_pos\n"
      ],
      "execution_count": null,
      "outputs": []
    },
    {
      "cell_type": "markdown",
      "metadata": {
        "id": "q0MJkKsh87Ex"
      },
      "source": [
        "### Test your maximal matching algorithm on a toy dictionary\n",
        "\n",
        "Expected output:\n",
        "\n",
        "[1, 1, inf, inf, inf, inf, inf, inf, inf, inf] ไ\n",
        "<br>\n",
        "[None, 2, inf, inf, inf, inf, inf, inf, inf, inf] ป\n",
        "<br>\n",
        "[None, None, 2, 2, 2, inf, inf, inf, inf, inf] ห\n",
        "<br>\n",
        "[None, None, None, 3, inf, inf, inf, inf, inf, inf] า\n",
        "<br>\n",
        "[None, None, None, None, 3, inf, inf, inf, 3, inf] ม\n",
        "<br>\n",
        "[None, None, None, None, None, 3, 3, inf, inf, inf] เ\n",
        "<br>\n",
        "[None, None, None, None, None, None, 4, inf, inf, inf] ห\n",
        "<br>\n",
        "[None, None, None, None, None, None, None, 4, 4, inf] ส\n",
        "<br>\n",
        "[None, None, None, None, None, None, None, None, 5, inf] ี\n",
        "<br>\n",
        "[None, None, None, None, None, None, None, None, None, 4] !\n",
        "<br>"
      ]
    },
    {
      "cell_type": "code",
      "metadata": {
        "id": "tsmVQIKS87Ey",
        "colab": {
          "base_uri": "https://localhost:8080/"
        },
        "outputId": "92ec3f89-b3a2-468a-dcb3-d4afb686032a"
      },
      "source": [
        "input_text = \"ไปหามเหสี!\"\n",
        "out = maximal_matching(input_text)\n",
        "for i in range(len(out)):\n",
        "    print(out[i],input_text[i])"
      ],
      "execution_count": null,
      "outputs": [
        {
          "output_type": "stream",
          "text": [
            "[1, 1, inf, inf, inf, inf, inf, inf, inf, inf] ไ\n",
            "[None, 2, inf, inf, inf, inf, inf, inf, inf, inf] ป\n",
            "[None, None, 2, 2, 2, inf, inf, inf, inf, inf] ห\n",
            "[None, None, None, 3, inf, inf, inf, inf, inf, inf] า\n",
            "[None, None, None, None, 3, inf, inf, inf, 3, inf] ม\n",
            "[None, None, None, None, None, 3, 3, inf, inf, inf] เ\n",
            "[None, None, None, None, None, None, 4, inf, inf, inf] ห\n",
            "[None, None, None, None, None, None, None, 4, 4, inf] ส\n",
            "[None, None, None, None, None, None, None, None, 5, inf] ี\n",
            "[None, None, None, None, None, None, None, None, None, 4] !\n"
          ],
          "name": "stdout"
        }
      ]
    },
    {
      "cell_type": "markdown",
      "metadata": {
        "id": "IVhCMM4d87Ey"
      },
      "source": [
        "### Test your backtracking algorithm on a toy dictionary\n",
        "Expected output:\n",
        "<br>\n",
        "ไป|หา|มเหสี|!"
      ]
    },
    {
      "cell_type": "code",
      "metadata": {
        "id": "6Hurbm1f87Ey",
        "colab": {
          "base_uri": "https://localhost:8080/"
        },
        "outputId": "4ad68196-22c1-435f-9dba-1d8fabe5955d"
      },
      "source": [
        "def print_tokenized_text(d, input_text):\n",
        "    tokenized_text=[]\n",
        "    for pos in backtrack(d):\n",
        "        #print(pos)\n",
        "        tokenized_text.append(input_text[pos[0]:pos[1]+1])\n",
        "\n",
        "    print(\"|\".join(tokenized_text))\n",
        "\n",
        "print(backtrack(out))\n",
        "print_tokenized_text(out,input_text)"
      ],
      "execution_count": null,
      "outputs": [
        {
          "output_type": "stream",
          "text": [
            "[(0, 1), (2, 3), (4, 8), (9, 9)]\n",
            "ไป|หา|มเหสี|!\n"
          ],
          "name": "stdout"
        }
      ]
    },
    {
      "cell_type": "markdown",
      "metadata": {
        "id": "57rP9cTU87Ez"
      },
      "source": [
        "## Part2) Your Maximal Matching with Real Dictionary"
      ]
    },
    {
      "cell_type": "markdown",
      "metadata": {
        "id": "V306h7AG87Ez"
      },
      "source": [
        "For UNIX-based OS users, the following cell will download a dictionary (it's just a list of thai words). Alternatively, you can download it from this link: https://raw.githubusercontent.com/PyThaiNLP/pythainlp/dev/pythainlp/corpus/words_th.txt"
      ]
    },
    {
      "cell_type": "code",
      "metadata": {
        "scrolled": true,
        "id": "EFVR9LO187Ez",
        "colab": {
          "base_uri": "https://localhost:8080/"
        },
        "outputId": "43a42747-3ebb-4d51-b07c-eae5c571f357"
      },
      "source": [
        "!wget https://raw.githubusercontent.com/PyThaiNLP/pythainlp/dev/pythainlp/corpus/words_th.txt"
      ],
      "execution_count": null,
      "outputs": [
        {
          "output_type": "stream",
          "text": [
            "--2021-01-23 16:12:53--  https://raw.githubusercontent.com/PyThaiNLP/pythainlp/dev/pythainlp/corpus/words_th.txt\n",
            "Resolving raw.githubusercontent.com (raw.githubusercontent.com)... 151.101.0.133, 151.101.64.133, 151.101.128.133, ...\n",
            "Connecting to raw.githubusercontent.com (raw.githubusercontent.com)|151.101.0.133|:443... connected.\n",
            "HTTP request sent, awaiting response... 200 OK\n",
            "Length: 1521600 (1.5M) [text/plain]\n",
            "Saving to: ‘words_th.txt.1’\n",
            "\n",
            "words_th.txt.1      100%[===================>]   1.45M  --.-KB/s    in 0.09s   \n",
            "\n",
            "2021-01-23 16:12:54 (15.9 MB/s) - ‘words_th.txt.1’ saved [1521600/1521600]\n",
            "\n"
          ],
          "name": "stdout"
        }
      ]
    },
    {
      "cell_type": "code",
      "metadata": {
        "id": "nqIQzVgE87E0",
        "colab": {
          "base_uri": "https://localhost:8080/"
        },
        "outputId": "016cdf6a-6c53-4094-e31a-f1a4bdebd680"
      },
      "source": [
        "with open(\"words_th.txt\",encoding='utf-8-sig') as f:\n",
        "    thai_vocab = f.read().splitlines() \n",
        "print(\"Vocab size:\", len(thai_vocab))\n",
        "print(thai_vocab[:10])\n",
        "\n",
        "thai_vocab.extend([\"ๆ\",\"!\"])"
      ],
      "execution_count": null,
      "outputs": [
        {
          "output_type": "stream",
          "text": [
            "Vocab size: 62143\n",
            "['ก ข ไม่กระดิกหู', 'ก.', 'ก.ค.', 'ก.ต.', 'ก.ป.ส.', 'ก.พ.', 'ก.พ.ด.', 'ก.ม.', 'ก.ย.', 'ก.ย']\n"
          ],
          "name": "stdout"
        }
      ]
    },
    {
      "cell_type": "markdown",
      "metadata": {
        "id": "Kpjwzw1w87E0"
      },
      "source": [
        "### The output of your maximal matching algoithm on a new dictionary\n",
        "Expected output:\n",
        "<br>\n",
        "[1, 1, 100000, 1, 100000, 100000, 100000, 100000, 100000] ไ\n",
        "<br>\n",
        "[None, 2, 100000, 100000, 100000, 100000, 100000, 100000, 100000] ป\n",
        "<br>\n",
        "[None, None, 2, 2, 2, 100000, 100000, 100000, 100000] ห\n",
        "<br>\n",
        "[None, None, None, 100000, 100000, 100000, 100000, 100000, 100000] า\n",
        "<br>\n",
        "[None, None, None, None, 2, 100000, 100000, 100000, 2] ม\n",
        "<br>\n",
        "[None, None, None, None, None, 100000, 3, 100000, 100000] เ\n",
        "<br>\n",
        "[None, None, None, None, None, None, 100001, 100000, 100000] ห\n",
        "<br>\n",
        "[None, None, None, None, None, None, None, 4, 4] ส\n",
        "<br>\n",
        "[None, None, None, None, None, None, None, None, None] ี"
      ]
    },
    {
      "cell_type": "code",
      "metadata": {
        "id": "lYD5ChIS87E0",
        "colab": {
          "base_uri": "https://localhost:8080/"
        },
        "outputId": "cc82a6be-6122-4c46-fc38-3fecfe099cfe"
      },
      "source": [
        "input_text = \"ไปหามเหสี\"\n",
        "out = maximal_matching(input_text)\n",
        "for i in range(len(out)):\n",
        "    print(out[i],input_text[i])"
      ],
      "execution_count": null,
      "outputs": [
        {
          "output_type": "stream",
          "text": [
            "[1, 1, inf, 1, inf, inf, inf, inf, inf] ไ\n",
            "[None, inf, inf, inf, inf, inf, inf, inf, inf] ป\n",
            "[None, None, inf, 2, 2, inf, inf, inf, inf] ห\n",
            "[None, None, None, inf, inf, inf, inf, inf, inf] า\n",
            "[None, None, None, None, inf, inf, inf, inf, 2] ม\n",
            "[None, None, None, None, None, inf, 3, inf, inf] เ\n",
            "[None, None, None, None, None, None, inf, inf, inf] ห\n",
            "[None, None, None, None, None, None, None, inf, 4] ส\n",
            "[None, None, None, None, None, None, None, None, inf] ี\n"
          ],
          "name": "stdout"
        }
      ]
    },
    {
      "cell_type": "markdown",
      "metadata": {
        "id": "BSqLuK7G87E0"
      },
      "source": [
        "### Expected tokenized text\n",
        "ไปหา|มเหสี"
      ]
    },
    {
      "cell_type": "code",
      "metadata": {
        "id": "TI077jmy87E0",
        "colab": {
          "base_uri": "https://localhost:8080/"
        },
        "outputId": "338f4920-3dde-4822-ad45-57f10c38238a"
      },
      "source": [
        "# print('ไปหา' in thai_vocab)\n",
        "# print('มเหสี' in thai_vocab)\n",
        "# print('ปปป' in thai_vocab)\n",
        "print_tokenized_text(out,input_text)"
      ],
      "execution_count": null,
      "outputs": [
        {
          "output_type": "stream",
          "text": [
            "ไปหา|มเหสี\n"
          ],
          "name": "stdout"
        }
      ]
    },
    {
      "cell_type": "markdown",
      "metadata": {
        "id": "VLGgO8PrLSz6"
      },
      "source": [
        "## Part3) Maximal Matching from PythaiNLP"
      ]
    },
    {
      "cell_type": "markdown",
      "metadata": {
        "id": "LrZrzQoXLeUX"
      },
      "source": [
        "### Default dictionary\n",
        "\n",
        "Study word_tokenize() from PythaiNLP in the link below.\n",
        "\n",
        "https://thainlp.org/pythainlp/docs/2.0/api/tokenize.html"
      ]
    },
    {
      "cell_type": "code",
      "metadata": {
        "id": "yXxPBOcNLXfm",
        "colab": {
          "base_uri": "https://localhost:8080/"
        },
        "outputId": "30e04864-03e4-4999-8e57-85baa9286cc4"
      },
      "source": [
        "!pip install pythainlp\n",
        "# !pip install pythainlp[full]\n",
        "!pip install marisa_trie\n",
        "!pip install deepcut\n",
        "!pip install PyICU"
      ],
      "execution_count": null,
      "outputs": [
        {
          "output_type": "stream",
          "text": [
            "Requirement already satisfied: pythainlp in /usr/local/lib/python3.6/dist-packages (2.2.6)\n",
            "Requirement already satisfied: python-crfsuite>=0.9.6 in /usr/local/lib/python3.6/dist-packages (from pythainlp) (0.9.7)\n",
            "Requirement already satisfied: requests>=2.22.0 in /usr/local/lib/python3.6/dist-packages (from pythainlp) (2.23.0)\n",
            "Requirement already satisfied: tinydb>=3.0 in /usr/local/lib/python3.6/dist-packages (from pythainlp) (4.3.0)\n",
            "Requirement already satisfied: idna<3,>=2.5 in /usr/local/lib/python3.6/dist-packages (from requests>=2.22.0->pythainlp) (2.10)\n",
            "Requirement already satisfied: chardet<4,>=3.0.2 in /usr/local/lib/python3.6/dist-packages (from requests>=2.22.0->pythainlp) (3.0.4)\n",
            "Requirement already satisfied: urllib3!=1.25.0,!=1.25.1,<1.26,>=1.21.1 in /usr/local/lib/python3.6/dist-packages (from requests>=2.22.0->pythainlp) (1.24.3)\n",
            "Requirement already satisfied: certifi>=2017.4.17 in /usr/local/lib/python3.6/dist-packages (from requests>=2.22.0->pythainlp) (2020.12.5)\n",
            "Requirement already satisfied: marisa_trie in /usr/local/lib/python3.6/dist-packages (0.7.5)\n",
            "Requirement already satisfied: deepcut in /usr/local/lib/python3.6/dist-packages (0.7.0.0)\n",
            "Requirement already satisfied: scikit-learn in /usr/local/lib/python3.6/dist-packages (from deepcut) (0.22.2.post1)\n",
            "Requirement already satisfied: tensorflow>=2.0.0 in /usr/local/lib/python3.6/dist-packages (from deepcut) (2.4.0)\n",
            "Requirement already satisfied: pandas in /usr/local/lib/python3.6/dist-packages (from deepcut) (1.1.5)\n",
            "Requirement already satisfied: h5py in /usr/local/lib/python3.6/dist-packages (from deepcut) (2.10.0)\n",
            "Requirement already satisfied: numpy in /usr/local/lib/python3.6/dist-packages (from deepcut) (1.19.5)\n",
            "Requirement already satisfied: scipy in /usr/local/lib/python3.6/dist-packages (from deepcut) (1.4.1)\n",
            "Requirement already satisfied: joblib>=0.11 in /usr/local/lib/python3.6/dist-packages (from scikit-learn->deepcut) (1.0.0)\n",
            "Requirement already satisfied: astunparse~=1.6.3 in /usr/local/lib/python3.6/dist-packages (from tensorflow>=2.0.0->deepcut) (1.6.3)\n",
            "Requirement already satisfied: absl-py~=0.10 in /usr/local/lib/python3.6/dist-packages (from tensorflow>=2.0.0->deepcut) (0.10.0)\n",
            "Requirement already satisfied: six~=1.15.0 in /usr/local/lib/python3.6/dist-packages (from tensorflow>=2.0.0->deepcut) (1.15.0)\n",
            "Requirement already satisfied: typing-extensions~=3.7.4 in /usr/local/lib/python3.6/dist-packages (from tensorflow>=2.0.0->deepcut) (3.7.4.3)\n",
            "Requirement already satisfied: keras-preprocessing~=1.1.2 in /usr/local/lib/python3.6/dist-packages (from tensorflow>=2.0.0->deepcut) (1.1.2)\n",
            "Requirement already satisfied: opt-einsum~=3.3.0 in /usr/local/lib/python3.6/dist-packages (from tensorflow>=2.0.0->deepcut) (3.3.0)\n",
            "Requirement already satisfied: tensorflow-estimator<2.5.0,>=2.4.0rc0 in /usr/local/lib/python3.6/dist-packages (from tensorflow>=2.0.0->deepcut) (2.4.0)\n",
            "Requirement already satisfied: termcolor~=1.1.0 in /usr/local/lib/python3.6/dist-packages (from tensorflow>=2.0.0->deepcut) (1.1.0)\n",
            "Requirement already satisfied: wrapt~=1.12.1 in /usr/local/lib/python3.6/dist-packages (from tensorflow>=2.0.0->deepcut) (1.12.1)\n",
            "Requirement already satisfied: protobuf>=3.9.2 in /usr/local/lib/python3.6/dist-packages (from tensorflow>=2.0.0->deepcut) (3.12.4)\n",
            "Requirement already satisfied: tensorboard~=2.4 in /usr/local/lib/python3.6/dist-packages (from tensorflow>=2.0.0->deepcut) (2.4.0)\n",
            "Requirement already satisfied: wheel~=0.35 in /usr/local/lib/python3.6/dist-packages (from tensorflow>=2.0.0->deepcut) (0.36.2)\n",
            "Requirement already satisfied: google-pasta~=0.2 in /usr/local/lib/python3.6/dist-packages (from tensorflow>=2.0.0->deepcut) (0.2.0)\n",
            "Requirement already satisfied: flatbuffers~=1.12.0 in /usr/local/lib/python3.6/dist-packages (from tensorflow>=2.0.0->deepcut) (1.12)\n",
            "Requirement already satisfied: gast==0.3.3 in /usr/local/lib/python3.6/dist-packages (from tensorflow>=2.0.0->deepcut) (0.3.3)\n",
            "Requirement already satisfied: grpcio~=1.32.0 in /usr/local/lib/python3.6/dist-packages (from tensorflow>=2.0.0->deepcut) (1.32.0)\n",
            "Requirement already satisfied: pytz>=2017.2 in /usr/local/lib/python3.6/dist-packages (from pandas->deepcut) (2018.9)\n",
            "Requirement already satisfied: python-dateutil>=2.7.3 in /usr/local/lib/python3.6/dist-packages (from pandas->deepcut) (2.8.1)\n",
            "Requirement already satisfied: setuptools in /usr/local/lib/python3.6/dist-packages (from protobuf>=3.9.2->tensorflow>=2.0.0->deepcut) (51.3.3)\n",
            "Requirement already satisfied: tensorboard-plugin-wit>=1.6.0 in /usr/local/lib/python3.6/dist-packages (from tensorboard~=2.4->tensorflow>=2.0.0->deepcut) (1.7.0)\n",
            "Requirement already satisfied: requests<3,>=2.21.0 in /usr/local/lib/python3.6/dist-packages (from tensorboard~=2.4->tensorflow>=2.0.0->deepcut) (2.23.0)\n",
            "Requirement already satisfied: werkzeug>=0.11.15 in /usr/local/lib/python3.6/dist-packages (from tensorboard~=2.4->tensorflow>=2.0.0->deepcut) (1.0.1)\n",
            "Requirement already satisfied: google-auth<2,>=1.6.3 in /usr/local/lib/python3.6/dist-packages (from tensorboard~=2.4->tensorflow>=2.0.0->deepcut) (1.17.2)\n",
            "Requirement already satisfied: markdown>=2.6.8 in /usr/local/lib/python3.6/dist-packages (from tensorboard~=2.4->tensorflow>=2.0.0->deepcut) (3.3.3)\n",
            "Requirement already satisfied: google-auth-oauthlib<0.5,>=0.4.1 in /usr/local/lib/python3.6/dist-packages (from tensorboard~=2.4->tensorflow>=2.0.0->deepcut) (0.4.2)\n",
            "Requirement already satisfied: idna<3,>=2.5 in /usr/local/lib/python3.6/dist-packages (from requests<3,>=2.21.0->tensorboard~=2.4->tensorflow>=2.0.0->deepcut) (2.10)\n",
            "Requirement already satisfied: certifi>=2017.4.17 in /usr/local/lib/python3.6/dist-packages (from requests<3,>=2.21.0->tensorboard~=2.4->tensorflow>=2.0.0->deepcut) (2020.12.5)\n",
            "Requirement already satisfied: urllib3!=1.25.0,!=1.25.1,<1.26,>=1.21.1 in /usr/local/lib/python3.6/dist-packages (from requests<3,>=2.21.0->tensorboard~=2.4->tensorflow>=2.0.0->deepcut) (1.24.3)\n",
            "Requirement already satisfied: chardet<4,>=3.0.2 in /usr/local/lib/python3.6/dist-packages (from requests<3,>=2.21.0->tensorboard~=2.4->tensorflow>=2.0.0->deepcut) (3.0.4)\n",
            "Requirement already satisfied: rsa<5,>=3.1.4; python_version >= \"3\" in /usr/local/lib/python3.6/dist-packages (from google-auth<2,>=1.6.3->tensorboard~=2.4->tensorflow>=2.0.0->deepcut) (4.6)\n",
            "Requirement already satisfied: pyasn1-modules>=0.2.1 in /usr/local/lib/python3.6/dist-packages (from google-auth<2,>=1.6.3->tensorboard~=2.4->tensorflow>=2.0.0->deepcut) (0.2.8)\n",
            "Requirement already satisfied: cachetools<5.0,>=2.0.0 in /usr/local/lib/python3.6/dist-packages (from google-auth<2,>=1.6.3->tensorboard~=2.4->tensorflow>=2.0.0->deepcut) (4.2.0)\n",
            "Requirement already satisfied: importlib-metadata; python_version < \"3.8\" in /usr/local/lib/python3.6/dist-packages (from markdown>=2.6.8->tensorboard~=2.4->tensorflow>=2.0.0->deepcut) (3.3.0)\n",
            "Requirement already satisfied: requests-oauthlib>=0.7.0 in /usr/local/lib/python3.6/dist-packages (from google-auth-oauthlib<0.5,>=0.4.1->tensorboard~=2.4->tensorflow>=2.0.0->deepcut) (1.3.0)\n",
            "Requirement already satisfied: pyasn1>=0.1.3 in /usr/local/lib/python3.6/dist-packages (from rsa<5,>=3.1.4; python_version >= \"3\"->google-auth<2,>=1.6.3->tensorboard~=2.4->tensorflow>=2.0.0->deepcut) (0.4.8)\n",
            "Requirement already satisfied: zipp>=0.5 in /usr/local/lib/python3.6/dist-packages (from importlib-metadata; python_version < \"3.8\"->markdown>=2.6.8->tensorboard~=2.4->tensorflow>=2.0.0->deepcut) (3.4.0)\n",
            "Requirement already satisfied: oauthlib>=3.0.0 in /usr/local/lib/python3.6/dist-packages (from requests-oauthlib>=0.7.0->google-auth-oauthlib<0.5,>=0.4.1->tensorboard~=2.4->tensorflow>=2.0.0->deepcut) (3.1.0)\n",
            "Requirement already satisfied: PyICU in /usr/local/lib/python3.6/dist-packages (2.6)\n"
          ],
          "name": "stdout"
        }
      ]
    },
    {
      "cell_type": "code",
      "metadata": {
        "id": "goQE5gFUL4KO",
        "colab": {
          "base_uri": "https://localhost:8080/"
        },
        "outputId": "d6238eff-32ce-403f-967c-92fbc46e1311"
      },
      "source": [
        "from pythainlp.tokenize import word_tokenize\n",
        "text='นัดกินกันตอนไหนก็ได้ที่สามย่านมิตรทาวน์'\n",
        "engine=[\"newmm\", \"longest\", \"deepcut\", \"icu\"]\n",
        "\n",
        "####FILL CODE HERE####\n",
        "for e in engine:\n",
        "  print('engine : ' + e)\n",
        "  print(word_tokenize(text, engine=e))\n",
        "  print('\\n')\n",
        "######################"
      ],
      "execution_count": null,
      "outputs": [
        {
          "output_type": "stream",
          "text": [
            "engine : newmm\n",
            "['นัด', 'กินกัน', 'ตอน', 'ไหน', 'ก็', 'ได้ที่', 'สามย่าน', 'มิตร', 'ทาวน์']\n",
            "\n",
            "\n",
            "engine : longest\n",
            "['นัด', 'กินกัน', 'ตอน', 'ไหน', 'ก็ได้', 'ที่สาม', 'ย่าน', 'มิตร', 'ทาวน์']\n",
            "\n",
            "\n",
            "engine : deepcut\n",
            "['นัด', 'กิน', 'กัน', 'ตอน', 'ไหน', 'ก็ได้', 'ที่', 'สาม', 'ย่าน', 'มิตรทาวน์']\n",
            "\n",
            "\n",
            "engine : icu\n",
            "['นัด', 'กิน', 'กัน', 'ตอน', 'ไหน', 'ก็ได้', 'ที่', 'สาม', 'ย่าน', 'มิตร', 'ทาวน์']\n",
            "\n",
            "\n"
          ],
          "name": "stdout"
        }
      ]
    },
    {
      "cell_type": "code",
      "metadata": {
        "colab": {
          "base_uri": "https://localhost:8080/"
        },
        "id": "7dWJiP7aidcp",
        "outputId": "13a9e656-6ee3-4ff9-ed4f-d6fb78d0c1d8"
      },
      "source": [
        "print('มิตรทาวน์' in thai_vocab)"
      ],
      "execution_count": null,
      "outputs": [
        {
          "output_type": "stream",
          "text": [
            "False\n"
          ],
          "name": "stdout"
        }
      ]
    },
    {
      "cell_type": "markdown",
      "metadata": {
        "id": "2SlX5cEBMHPd"
      },
      "source": [
        "### Custom dictionary\n",
        "\n",
        "Add 'สามย่านมิตรทาวน์' into dictionary and then tokenize again"
      ]
    },
    {
      "cell_type": "code",
      "metadata": {
        "id": "b4V9TqFaMPAj",
        "colab": {
          "base_uri": "https://localhost:8080/"
        },
        "outputId": "f563bb73-c78b-4f2e-c62f-ebe60b2b6fda"
      },
      "source": [
        "####FILL CODE HERE####\n",
        "\n",
        "from pythainlp.corpus.common import thai_words\n",
        "from marisa_trie import Trie\n",
        "\n",
        "from pythainlp.util import dict_trie\n",
        "\n",
        "custom_dict = set(thai_words())\n",
        "custom_dict.add('สามย่านมิตรทาวน์')\n",
        "trie = dict_trie(dict_source=custom_dict)\n",
        "\n",
        "for e in engine:\n",
        "  print('engine : ' + e)\n",
        "  print(word_tokenize(text, engine=e, custom_dict=trie))\n",
        "  print('\\n')\n",
        "######################"
      ],
      "execution_count": null,
      "outputs": [
        {
          "output_type": "stream",
          "text": [
            "engine : newmm\n",
            "['นัด', 'กินกัน', 'ตอน', 'ไหน', 'ก็', 'ได้ที่', 'สามย่านมิตรทาวน์']\n",
            "\n",
            "\n",
            "engine : longest\n",
            "['นัด', 'กินกัน', 'ตอน', 'ไหน', 'ก็ได้', 'ที่สาม', 'ย่าน', 'มิตร', 'ทาวน์']\n",
            "\n",
            "\n",
            "engine : deepcut\n",
            "['นั', 'ดกิน', 'กัน', 'ตอน', 'ไห', 'นก', '็ได้ที', '่', 'สาม', 'ย่าน', 'มิ', 'ตรท', 'าว', 'น์']\n",
            "\n",
            "\n",
            "engine : icu\n",
            "['นัด', 'กิน', 'กัน', 'ตอน', 'ไหน', 'ก็ได้', 'ที่', 'สาม', 'ย่าน', 'มิตร', 'ทาวน์']\n",
            "\n",
            "\n"
          ],
          "name": "stdout"
        }
      ]
    }
  ]
}